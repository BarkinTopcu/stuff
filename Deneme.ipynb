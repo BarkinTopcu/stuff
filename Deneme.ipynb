{
  "nbformat": 4,
  "nbformat_minor": 0,
  "metadata": {
    "colab": {
      "provenance": [],
      "authorship_tag": "ABX9TyPeXO8Km7XDpLa+1XnPjQGF",
      "include_colab_link": true
    },
    "kernelspec": {
      "name": "python3",
      "display_name": "Python 3"
    },
    "language_info": {
      "name": "python"
    }
  },
  "cells": [
    {
      "cell_type": "markdown",
      "metadata": {
        "id": "view-in-github",
        "colab_type": "text"
      },
      "source": [
        "<a href=\"https://colab.research.google.com/github/BarkinTopcu/stuff/blob/main/Deneme.ipynb\" target=\"_parent\"><img src=\"https://colab.research.google.com/assets/colab-badge.svg\" alt=\"Open In Colab\"/></a>"
      ]
    },
    {
      "cell_type": "code",
      "execution_count": null,
      "metadata": {
        "id": "GljeNuTSbzuM"
      },
      "outputs": [],
      "source": [
        "#Deneme 123"
      ]
    },
    {
      "cell_type": "code",
      "source": [
        "#Deneme 1234"
      ],
      "metadata": {
        "id": "vmm0Ng02cpMM"
      },
      "execution_count": null,
      "outputs": []
    }
  ]
}