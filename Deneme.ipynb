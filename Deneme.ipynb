{
  "nbformat": 4,
  "nbformat_minor": 0,
  "metadata": {
    "colab": {
      "provenance": [],
      "authorship_tag": "ABX9TyOIxxIVWDCUm70AIkAPn0vo"
    },
    "kernelspec": {
      "name": "python3",
      "display_name": "Python 3"
    },
    "language_info": {
      "name": "python"
    }
  },
  "cells": [
    {
      "cell_type": "code",
      "execution_count": null,
      "metadata": {
        "id": "GljeNuTSbzuM"
      },
      "outputs": [],
      "source": [
        "#Deneme 123"
      ]
    },
    {
      "cell_type": "code",
      "source": [
        "#Deneme 1234"
      ],
      "metadata": {
        "id": "vmm0Ng02cpMM"
      },
      "execution_count": null,
      "outputs": []
    },
    {
      "cell_type": "code",
      "source": [
        "print(\"hello\")"
      ],
      "metadata": {
        "id": "nAHI0drUcx4z",
        "outputId": "c183564d-17cc-4897-f59a-241749123ce3",
        "colab": {
          "base_uri": "https://localhost:8080/"
        }
      },
      "execution_count": 1,
      "outputs": [
        {
          "output_type": "stream",
          "name": "stdout",
          "text": [
            "hello\n"
          ]
        }
      ]
    }
  ]
}